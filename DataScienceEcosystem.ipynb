{
 "cells": [
  {
   "cell_type": "markdown",
   "id": "233ccf37-196b-495a-b710-c64f34c06f0e",
   "metadata": {},
   "source": [
    "# Data Science Tools and Ecosystem"
   ]
  },
  {
   "cell_type": "markdown",
   "id": "bbbec2a1-f14e-4e1c-abd6-b389a8e89af0",
   "metadata": {},
   "source": [
    "In this notebook, Data Science Tools and Ecosystems are summarized."
   ]
  },
  {
   "cell_type": "markdown",
   "id": "3b6f206d-efd8-43b3-a678-35766b655be4",
   "metadata": {},
   "source": [
    "**Objectives:**\n",
    "* List popular languages for data science\n",
    "* Construct a table\n",
    "* Create an unordered list\n",
    "* Insert comments"
   ]
  },
  {
   "cell_type": "markdown",
   "id": "64c8c692-31d6-48c4-bc75-147ed97964e9",
   "metadata": {},
   "source": [
    "Some of the popular languages data scientists use are:\n",
    "1. Python\n",
    "2. R\n",
    "3. SQL\n",
    "4. Jaava"
   ]
  },
  {
   "cell_type": "markdown",
   "id": "f1f48f8e-5c9a-42f4-962f-7495c1d6a250",
   "metadata": {},
   "source": [
    "Some of the commonly used libraries utilized by data scientists include:\n",
    "* Pandas\n",
    "* TensorFlow\n",
    "* Plotly"
   ]
  },
  {
   "cell_type": "markdown",
   "id": "3c39f37b-af48-4d9d-8a57-5c16bcec04a4",
   "metadata": {},
   "source": [
    "| Data Science Tools |\n",
    "| ----- |\n",
    "| Apache Spark |\n",
    "| TensorFlow |\n",
    "| Python |"
   ]
  },
  {
   "cell_type": "markdown",
   "id": "c85e8919-2ace-4e6d-b5a5-992bbbe4e22e",
   "metadata": {},
   "source": [
    "### Below are a few examples of evaluating arithmetic expressions in Python"
   ]
  },
  {
   "cell_type": "code",
   "execution_count": 1,
   "id": "787c7e84-21fe-4e27-8a25-5c5a76e8f969",
   "metadata": {
    "tags": []
   },
   "outputs": [
    {
     "data": {
      "text/plain": [
       "17"
      ]
     },
     "execution_count": 1,
     "metadata": {},
     "output_type": "execute_result"
    }
   ],
   "source": [
    "# This is a simple arithmetic expression to multiply then add integers.\n",
    "(3*4)+5"
   ]
  },
  {
   "cell_type": "code",
   "execution_count": 2,
   "id": "fcbdb6bf-6cb5-4ae2-9ba6-6c6ab68abaff",
   "metadata": {
    "tags": []
   },
   "outputs": [
    {
     "data": {
      "text/plain": [
       "3.3333333333333335"
      ]
     },
     "execution_count": 2,
     "metadata": {},
     "output_type": "execute_result"
    }
   ],
   "source": [
    "# This will convert 200 minutes into hours by dividing by 60.\n",
    "\n",
    "(200/60)"
   ]
  },
  {
   "cell_type": "markdown",
   "id": "2566e155-e1b1-44f9-bf86-8e5cecea1085",
   "metadata": {},
   "source": [
    "## Author\n",
    "Charles Lyon"
   ]
  },
  {
   "cell_type": "code",
   "execution_count": null,
   "id": "ec525b6c-9a63-4968-8b52-75510f275382",
   "metadata": {},
   "outputs": [],
   "source": []
  }
 ],
 "metadata": {
  "kernelspec": {
   "display_name": "Python",
   "language": "python",
   "name": "conda-env-python-py"
  },
  "language_info": {
   "codemirror_mode": {
    "name": "ipython",
    "version": 3
   },
   "file_extension": ".py",
   "mimetype": "text/x-python",
   "name": "python",
   "nbconvert_exporter": "python",
   "pygments_lexer": "ipython3",
   "version": "3.7.12"
  }
 },
 "nbformat": 4,
 "nbformat_minor": 5
}
